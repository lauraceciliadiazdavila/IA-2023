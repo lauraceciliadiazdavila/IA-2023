{
  "nbformat": 4,
  "nbformat_minor": 0,
  "metadata": {
    "colab": {
      "provenance": []
    },
    "kernelspec": {
      "name": "python3",
      "display_name": "Python 3"
    },
    "language_info": {
      "name": "python"
    }
  },
  "cells": [
    {
      "cell_type": "code",
      "source": [
        "!pip install contractions"
      ],
      "metadata": {
        "colab": {
          "base_uri": "https://localhost:8080/"
        },
        "id": "9Lq89ZhiwMM8",
        "outputId": "d83facd7-d7fe-4414-e1ef-8b190ef4ccd3"
      },
      "execution_count": null,
      "outputs": [
        {
          "output_type": "stream",
          "name": "stdout",
          "text": [
            "Collecting contractions\n",
            "  Downloading contractions-0.1.73-py2.py3-none-any.whl (8.7 kB)\n",
            "Collecting textsearch>=0.0.21 (from contractions)\n",
            "  Downloading textsearch-0.0.24-py2.py3-none-any.whl (7.6 kB)\n",
            "Collecting anyascii (from textsearch>=0.0.21->contractions)\n",
            "  Downloading anyascii-0.3.2-py3-none-any.whl (289 kB)\n",
            "\u001b[2K     \u001b[90m━━━━━━━━━━━━━━━━━━━━━━━━━━━━━━━━━━━━━━━━\u001b[0m \u001b[32m289.9/289.9 kB\u001b[0m \u001b[31m2.3 MB/s\u001b[0m eta \u001b[36m0:00:00\u001b[0m\n",
            "\u001b[?25hCollecting pyahocorasick (from textsearch>=0.0.21->contractions)\n",
            "  Downloading pyahocorasick-2.1.0-cp310-cp310-manylinux_2_5_x86_64.manylinux1_x86_64.manylinux_2_12_x86_64.manylinux2010_x86_64.whl (110 kB)\n",
            "\u001b[2K     \u001b[90m━━━━━━━━━━━━━━━━━━━━━━━━━━━━━━━━━━━━━━━━\u001b[0m \u001b[32m110.7/110.7 kB\u001b[0m \u001b[31m6.9 MB/s\u001b[0m eta \u001b[36m0:00:00\u001b[0m\n",
            "\u001b[?25hInstalling collected packages: pyahocorasick, anyascii, textsearch, contractions\n",
            "Successfully installed anyascii-0.3.2 contractions-0.1.73 pyahocorasick-2.1.0 textsearch-0.0.24\n"
          ]
        }
      ]
    },
    {
      "cell_type": "markdown",
      "source": [
        "##Lematización:\n",
        "\n",
        "- La lematización es el proceso de reducir una palabra a su forma base o raíz, conocida como lema. Por ejemplo, las palabras \"corriendo\", \"corre\" y \"correrá\" tienen el mismo lema \"correr\".\n",
        "- El objetivo de la lematización es normalizar las palabras para que las variantes de una misma palabra se consideren iguales en el análisis, lo que ayuda a mejorar la precisión de los modelos de NLP.\n",
        "\n",
        "##Stopwords:\n",
        "\n",
        "- Las stopwords son palabras muy comunes en un idioma que a menudo no aportan un significado adicional al texto y se pueden eliminar sin afectar la comprensión del mismo. Ejemplos de stopwords en inglés son \"the\", \"and\", \"is\", etc.\n",
        "- La eliminación de stopwords es importante para reducir el ruido en los datos y mejorar la eficiencia de los modelos de NLP al centrarse en las palabras más significativas del texto."
      ],
      "metadata": {
        "id": "yVGhzw7Dwqls"
      }
    },
    {
      "cell_type": "code",
      "execution_count": null,
      "metadata": {
        "colab": {
          "base_uri": "https://localhost:8080/"
        },
        "id": "kEBsGuEMwDo7",
        "outputId": "5e390691-166e-4091-9950-042684918650"
      },
      "outputs": [
        {
          "output_type": "stream",
          "name": "stderr",
          "text": [
            "[nltk_data] Downloading package wordnet to /root/nltk_data...\n",
            "[nltk_data]   Package wordnet is already up-to-date!\n",
            "[nltk_data] Downloading package stopwords to /root/nltk_data...\n",
            "[nltk_data]   Package stopwords is already up-to-date!\n"
          ]
        },
        {
          "output_type": "execute_result",
          "data": {
            "text/plain": [
              "True"
            ]
          },
          "metadata": {},
          "execution_count": 4
        }
      ],
      "source": [
        "import pandas as pd\n",
        "import nltk\n",
        "from nltk.stem import WordNetLemmatizer\n",
        "from gensim.models.phrases import Phrases, Phraser\n",
        "from gensim.models import Word2Vec\n",
        "import re\n",
        "import string\n",
        "import contractions\n",
        "import multiprocessing\n",
        "from nltk.corpus import stopwords\n",
        "\n",
        "nltk.download('wordnet')\n",
        "nltk.download('stopwords')"
      ]
    },
    {
      "cell_type": "markdown",
      "source": [
        "##Limpieza del texto\n",
        "\n",
        "- Normalización de datos\n",
        "\n",
        "- Eliminación de ruido\n",
        "\n",
        "- Reducción del vocabulario\n",
        "\n",
        "- Mejora de la precisión\n",
        "\n",
        "*clean_text_round1*: Limpia el texto convirtiéndolo a minúsculas, eliminando texto entre corchetes, signos de puntuación y palabras con números.\n",
        "\n",
        "*clean_text_round2*: Elimina comillas, puntos suspensivos, y saltos de línea del texto."
      ],
      "metadata": {
        "id": "21mNw_1ExYMv"
      }
    },
    {
      "cell_type": "code",
      "source": [
        "def clean_text_round1(text):\n",
        "    text = text.lower()\n",
        "    text = re.sub('\\[.*?¿\\]\\%', ' ', text)\n",
        "    text = re.sub('[%s]' % re.escape(string.punctuation), ' ', text)\n",
        "    text = re.sub('\\w*\\d\\w*', '', text)\n",
        "    return text\n",
        "\n",
        "def clean_text_round2(text):\n",
        "    text = re.sub('[‘’“”…«»]', '', text)\n",
        "    text = re.sub('\\n', ' ', text)\n",
        "    return text"
      ],
      "metadata": {
        "id": "4yP6kz0GwG_x"
      },
      "execution_count": null,
      "outputs": []
    },
    {
      "cell_type": "code",
      "source": [
        "lemmatizer = WordNetLemmatizer()\n",
        "sw = stopwords.words('english')"
      ],
      "metadata": {
        "id": "oG6yl-s_xQsG"
      },
      "execution_count": null,
      "outputs": []
    },
    {
      "cell_type": "code",
      "source": [
        "df = pd.read_csv('/content/drive/MyDrive/Inteligencia Artificial/Materia/2024/simpsons_dataset.csv')\n",
        "print(df.head())\n",
        "\n",
        "# Asegurarse de que todas las entradas en 'spoken_words' son cadenas de texto\n",
        "df['spoken_words'] = df['spoken_words'].astype(str)\n",
        "\n",
        "# Aplicar las funciones de limpieza usando funciones lambda (rounds)\n",
        "round0 = lambda x: contractions.fix(x)\n",
        "round1 = lambda x: clean_text_round1(x)\n",
        "round2 = lambda x: clean_text_round2(x)\n",
        "\n",
        "# Aplicar cada ronda de limpieza secuencialmente\n",
        "df['spoken_words'] = df['spoken_words'].apply(round0)\n",
        "df['spoken_words'] = df['spoken_words'].apply(round1)\n",
        "df['spoken_words'] = df['spoken_words'].apply(round2)\n",
        "\n",
        "\n",
        "df.head()"
      ],
      "metadata": {
        "id": "Bs_VBkjFyX_X",
        "colab": {
          "base_uri": "https://localhost:8080/",
          "height": 310
        },
        "outputId": "e2f335ab-a870-47ef-9a56-c8a2174939f6"
      },
      "execution_count": null,
      "outputs": [
        {
          "output_type": "stream",
          "name": "stdout",
          "text": [
            "        raw_character_text                                       spoken_words\n",
            "0              Miss Hoover  No, actually, it was a little of both. Sometim...\n",
            "1             Lisa Simpson                             Where's Mr. Bergstrom?\n",
            "2              Miss Hoover  I don't know. Although I'd sure like to talk t...\n",
            "3             Lisa Simpson                         That life is worth living.\n",
            "4  Edna Krabappel-Flanders  The polls will be open from now until the end ...\n"
          ]
        },
        {
          "output_type": "execute_result",
          "data": {
            "text/plain": [
              "        raw_character_text                                       spoken_words\n",
              "0              Miss Hoover  no  actually  it was a little of both  sometim...\n",
              "1             Lisa Simpson                            where is mr  bergstrom \n",
              "2              Miss Hoover  i do not know  although i would sure like to t...\n",
              "3             Lisa Simpson                         that life is worth living \n",
              "4  Edna Krabappel-Flanders  the polls will be open from now until the end ..."
            ],
            "text/html": [
              "\n",
              "  <div id=\"df-f47b3d67-3b4b-420c-812b-e1098d6d4e84\" class=\"colab-df-container\">\n",
              "    <div>\n",
              "<style scoped>\n",
              "    .dataframe tbody tr th:only-of-type {\n",
              "        vertical-align: middle;\n",
              "    }\n",
              "\n",
              "    .dataframe tbody tr th {\n",
              "        vertical-align: top;\n",
              "    }\n",
              "\n",
              "    .dataframe thead th {\n",
              "        text-align: right;\n",
              "    }\n",
              "</style>\n",
              "<table border=\"1\" class=\"dataframe\">\n",
              "  <thead>\n",
              "    <tr style=\"text-align: right;\">\n",
              "      <th></th>\n",
              "      <th>raw_character_text</th>\n",
              "      <th>spoken_words</th>\n",
              "    </tr>\n",
              "  </thead>\n",
              "  <tbody>\n",
              "    <tr>\n",
              "      <th>0</th>\n",
              "      <td>Miss Hoover</td>\n",
              "      <td>no  actually  it was a little of both  sometim...</td>\n",
              "    </tr>\n",
              "    <tr>\n",
              "      <th>1</th>\n",
              "      <td>Lisa Simpson</td>\n",
              "      <td>where is mr  bergstrom</td>\n",
              "    </tr>\n",
              "    <tr>\n",
              "      <th>2</th>\n",
              "      <td>Miss Hoover</td>\n",
              "      <td>i do not know  although i would sure like to t...</td>\n",
              "    </tr>\n",
              "    <tr>\n",
              "      <th>3</th>\n",
              "      <td>Lisa Simpson</td>\n",
              "      <td>that life is worth living</td>\n",
              "    </tr>\n",
              "    <tr>\n",
              "      <th>4</th>\n",
              "      <td>Edna Krabappel-Flanders</td>\n",
              "      <td>the polls will be open from now until the end ...</td>\n",
              "    </tr>\n",
              "  </tbody>\n",
              "</table>\n",
              "</div>\n",
              "    <div class=\"colab-df-buttons\">\n",
              "\n",
              "  <div class=\"colab-df-container\">\n",
              "    <button class=\"colab-df-convert\" onclick=\"convertToInteractive('df-f47b3d67-3b4b-420c-812b-e1098d6d4e84')\"\n",
              "            title=\"Convert this dataframe to an interactive table.\"\n",
              "            style=\"display:none;\">\n",
              "\n",
              "  <svg xmlns=\"http://www.w3.org/2000/svg\" height=\"24px\" viewBox=\"0 -960 960 960\">\n",
              "    <path d=\"M120-120v-720h720v720H120Zm60-500h600v-160H180v160Zm220 220h160v-160H400v160Zm0 220h160v-160H400v160ZM180-400h160v-160H180v160Zm440 0h160v-160H620v160ZM180-180h160v-160H180v160Zm440 0h160v-160H620v160Z\"/>\n",
              "  </svg>\n",
              "    </button>\n",
              "\n",
              "  <style>\n",
              "    .colab-df-container {\n",
              "      display:flex;\n",
              "      gap: 12px;\n",
              "    }\n",
              "\n",
              "    .colab-df-convert {\n",
              "      background-color: #E8F0FE;\n",
              "      border: none;\n",
              "      border-radius: 50%;\n",
              "      cursor: pointer;\n",
              "      display: none;\n",
              "      fill: #1967D2;\n",
              "      height: 32px;\n",
              "      padding: 0 0 0 0;\n",
              "      width: 32px;\n",
              "    }\n",
              "\n",
              "    .colab-df-convert:hover {\n",
              "      background-color: #E2EBFA;\n",
              "      box-shadow: 0px 1px 2px rgba(60, 64, 67, 0.3), 0px 1px 3px 1px rgba(60, 64, 67, 0.15);\n",
              "      fill: #174EA6;\n",
              "    }\n",
              "\n",
              "    .colab-df-buttons div {\n",
              "      margin-bottom: 4px;\n",
              "    }\n",
              "\n",
              "    [theme=dark] .colab-df-convert {\n",
              "      background-color: #3B4455;\n",
              "      fill: #D2E3FC;\n",
              "    }\n",
              "\n",
              "    [theme=dark] .colab-df-convert:hover {\n",
              "      background-color: #434B5C;\n",
              "      box-shadow: 0px 1px 3px 1px rgba(0, 0, 0, 0.15);\n",
              "      filter: drop-shadow(0px 1px 2px rgba(0, 0, 0, 0.3));\n",
              "      fill: #FFFFFF;\n",
              "    }\n",
              "  </style>\n",
              "\n",
              "    <script>\n",
              "      const buttonEl =\n",
              "        document.querySelector('#df-f47b3d67-3b4b-420c-812b-e1098d6d4e84 button.colab-df-convert');\n",
              "      buttonEl.style.display =\n",
              "        google.colab.kernel.accessAllowed ? 'block' : 'none';\n",
              "\n",
              "      async function convertToInteractive(key) {\n",
              "        const element = document.querySelector('#df-f47b3d67-3b4b-420c-812b-e1098d6d4e84');\n",
              "        const dataTable =\n",
              "          await google.colab.kernel.invokeFunction('convertToInteractive',\n",
              "                                                    [key], {});\n",
              "        if (!dataTable) return;\n",
              "\n",
              "        const docLinkHtml = 'Like what you see? Visit the ' +\n",
              "          '<a target=\"_blank\" href=https://colab.research.google.com/notebooks/data_table.ipynb>data table notebook</a>'\n",
              "          + ' to learn more about interactive tables.';\n",
              "        element.innerHTML = '';\n",
              "        dataTable['output_type'] = 'display_data';\n",
              "        await google.colab.output.renderOutput(dataTable, element);\n",
              "        const docLink = document.createElement('div');\n",
              "        docLink.innerHTML = docLinkHtml;\n",
              "        element.appendChild(docLink);\n",
              "      }\n",
              "    </script>\n",
              "  </div>\n",
              "\n",
              "\n",
              "<div id=\"df-b48dadb7-6561-450e-841a-cc9db2985cf4\">\n",
              "  <button class=\"colab-df-quickchart\" onclick=\"quickchart('df-b48dadb7-6561-450e-841a-cc9db2985cf4')\"\n",
              "            title=\"Suggest charts\"\n",
              "            style=\"display:none;\">\n",
              "\n",
              "<svg xmlns=\"http://www.w3.org/2000/svg\" height=\"24px\"viewBox=\"0 0 24 24\"\n",
              "     width=\"24px\">\n",
              "    <g>\n",
              "        <path d=\"M19 3H5c-1.1 0-2 .9-2 2v14c0 1.1.9 2 2 2h14c1.1 0 2-.9 2-2V5c0-1.1-.9-2-2-2zM9 17H7v-7h2v7zm4 0h-2V7h2v10zm4 0h-2v-4h2v4z\"/>\n",
              "    </g>\n",
              "</svg>\n",
              "  </button>\n",
              "\n",
              "<style>\n",
              "  .colab-df-quickchart {\n",
              "      --bg-color: #E8F0FE;\n",
              "      --fill-color: #1967D2;\n",
              "      --hover-bg-color: #E2EBFA;\n",
              "      --hover-fill-color: #174EA6;\n",
              "      --disabled-fill-color: #AAA;\n",
              "      --disabled-bg-color: #DDD;\n",
              "  }\n",
              "\n",
              "  [theme=dark] .colab-df-quickchart {\n",
              "      --bg-color: #3B4455;\n",
              "      --fill-color: #D2E3FC;\n",
              "      --hover-bg-color: #434B5C;\n",
              "      --hover-fill-color: #FFFFFF;\n",
              "      --disabled-bg-color: #3B4455;\n",
              "      --disabled-fill-color: #666;\n",
              "  }\n",
              "\n",
              "  .colab-df-quickchart {\n",
              "    background-color: var(--bg-color);\n",
              "    border: none;\n",
              "    border-radius: 50%;\n",
              "    cursor: pointer;\n",
              "    display: none;\n",
              "    fill: var(--fill-color);\n",
              "    height: 32px;\n",
              "    padding: 0;\n",
              "    width: 32px;\n",
              "  }\n",
              "\n",
              "  .colab-df-quickchart:hover {\n",
              "    background-color: var(--hover-bg-color);\n",
              "    box-shadow: 0 1px 2px rgba(60, 64, 67, 0.3), 0 1px 3px 1px rgba(60, 64, 67, 0.15);\n",
              "    fill: var(--button-hover-fill-color);\n",
              "  }\n",
              "\n",
              "  .colab-df-quickchart-complete:disabled,\n",
              "  .colab-df-quickchart-complete:disabled:hover {\n",
              "    background-color: var(--disabled-bg-color);\n",
              "    fill: var(--disabled-fill-color);\n",
              "    box-shadow: none;\n",
              "  }\n",
              "\n",
              "  .colab-df-spinner {\n",
              "    border: 2px solid var(--fill-color);\n",
              "    border-color: transparent;\n",
              "    border-bottom-color: var(--fill-color);\n",
              "    animation:\n",
              "      spin 1s steps(1) infinite;\n",
              "  }\n",
              "\n",
              "  @keyframes spin {\n",
              "    0% {\n",
              "      border-color: transparent;\n",
              "      border-bottom-color: var(--fill-color);\n",
              "      border-left-color: var(--fill-color);\n",
              "    }\n",
              "    20% {\n",
              "      border-color: transparent;\n",
              "      border-left-color: var(--fill-color);\n",
              "      border-top-color: var(--fill-color);\n",
              "    }\n",
              "    30% {\n",
              "      border-color: transparent;\n",
              "      border-left-color: var(--fill-color);\n",
              "      border-top-color: var(--fill-color);\n",
              "      border-right-color: var(--fill-color);\n",
              "    }\n",
              "    40% {\n",
              "      border-color: transparent;\n",
              "      border-right-color: var(--fill-color);\n",
              "      border-top-color: var(--fill-color);\n",
              "    }\n",
              "    60% {\n",
              "      border-color: transparent;\n",
              "      border-right-color: var(--fill-color);\n",
              "    }\n",
              "    80% {\n",
              "      border-color: transparent;\n",
              "      border-right-color: var(--fill-color);\n",
              "      border-bottom-color: var(--fill-color);\n",
              "    }\n",
              "    90% {\n",
              "      border-color: transparent;\n",
              "      border-bottom-color: var(--fill-color);\n",
              "    }\n",
              "  }\n",
              "</style>\n",
              "\n",
              "  <script>\n",
              "    async function quickchart(key) {\n",
              "      const quickchartButtonEl =\n",
              "        document.querySelector('#' + key + ' button');\n",
              "      quickchartButtonEl.disabled = true;  // To prevent multiple clicks.\n",
              "      quickchartButtonEl.classList.add('colab-df-spinner');\n",
              "      try {\n",
              "        const charts = await google.colab.kernel.invokeFunction(\n",
              "            'suggestCharts', [key], {});\n",
              "      } catch (error) {\n",
              "        console.error('Error during call to suggestCharts:', error);\n",
              "      }\n",
              "      quickchartButtonEl.classList.remove('colab-df-spinner');\n",
              "      quickchartButtonEl.classList.add('colab-df-quickchart-complete');\n",
              "    }\n",
              "    (() => {\n",
              "      let quickchartButtonEl =\n",
              "        document.querySelector('#df-b48dadb7-6561-450e-841a-cc9db2985cf4 button');\n",
              "      quickchartButtonEl.style.display =\n",
              "        google.colab.kernel.accessAllowed ? 'block' : 'none';\n",
              "    })();\n",
              "  </script>\n",
              "</div>\n",
              "    </div>\n",
              "  </div>\n"
            ],
            "application/vnd.google.colaboratory.intrinsic+json": {
              "type": "dataframe",
              "variable_name": "df"
            }
          },
          "metadata": {},
          "execution_count": 12
        }
      ]
    },
    {
      "cell_type": "code",
      "source": [
        "cores = multiprocessing.cpu_count()\n",
        "w2v_model = Word2Vec(min_count=20, window=2, vector_size=300, sample=6e-5, alpha=0.03, min_alpha=0.0007, negative=20, workers=cores)"
      ],
      "metadata": {
        "id": "BbTK4KuA1Tps"
      },
      "execution_count": null,
      "outputs": []
    },
    {
      "cell_type": "markdown",
      "source": [
        "###Tokenización de las frases\n",
        "\n",
        "- Convierte cada frase en una lista de palabras, tokenizando el texto por espacios. input_data se convierte en una lista de listas de palabras."
      ],
      "metadata": {
        "id": "nX071RPN4U6X"
      }
    },
    {
      "cell_type": "code",
      "source": [
        "input_data = [row.split() for row in df['spoken_words']]\n",
        "input_data[0]"
      ],
      "metadata": {
        "colab": {
          "base_uri": "https://localhost:8080/"
        },
        "id": "eyZXLFVc4kR7",
        "outputId": "edbdb2fe-0960-4de5-a396-9f6a29dbd6a3"
      },
      "execution_count": null,
      "outputs": [
        {
          "output_type": "execute_result",
          "data": {
            "text/plain": [
              "['no',\n",
              " 'actually',\n",
              " 'it',\n",
              " 'was',\n",
              " 'a',\n",
              " 'little',\n",
              " 'of',\n",
              " 'both',\n",
              " 'sometimes',\n",
              " 'when',\n",
              " 'a',\n",
              " 'disease',\n",
              " 'is',\n",
              " 'in',\n",
              " 'all',\n",
              " 'the',\n",
              " 'magazines',\n",
              " 'and',\n",
              " 'all',\n",
              " 'the',\n",
              " 'news',\n",
              " 'shows',\n",
              " 'it',\n",
              " 'is',\n",
              " 'only',\n",
              " 'natural',\n",
              " 'that',\n",
              " 'you',\n",
              " 'think',\n",
              " 'you',\n",
              " 'have',\n",
              " 'it']"
            ]
          },
          "metadata": {},
          "execution_count": 21
        }
      ]
    },
    {
      "cell_type": "markdown",
      "source": [
        "###Construcción de bigramas\n",
        "\n",
        "**\"El gato está sobre la mesa\"**\n",
        "\n",
        "Los bigramas de esta oración serían:\n",
        "\n",
        "- \"El gato\"\n",
        "- \"gato está\"\n",
        "- \"está sobre\"\n",
        "- \"sobre la\"\n",
        "- \"la mesa\"\n",
        "\n",
        "Cada bigrama representa dos palabras consecutivas en la oración original.\n",
        "  \n",
        "Captura de Contexto Local\n",
        "\n",
        "\n"
      ],
      "metadata": {
        "id": "n0-K6j_v4rpz"
      }
    },
    {
      "cell_type": "code",
      "source": [
        "phrases = Phrases(input_data, min_count=30, progress_per=1000)\n",
        "bigram = Phraser(phrases)\n",
        "sentences = bigram[input_data]"
      ],
      "metadata": {
        "colab": {
          "base_uri": "https://localhost:8080/"
        },
        "id": "TbgvYb7I1hRf",
        "outputId": "f51a0123-bf76-44df-ffb9-a1865a29bdb4"
      },
      "execution_count": null,
      "outputs": [
        {
          "output_type": "stream",
          "name": "stderr",
          "text": [
            "<ipython-input-15-af2627a3c7c1>:8: DeprecationWarning: Call to deprecated `init_sims` (Gensim 4.0.0 implemented internal optimizations that make calls to init_sims() unnecessary. init_sims() is now obsoleted and will be completely removed in future versions. See https://github.com/RaRe-Technologies/gensim/wiki/Migrating-from-Gensim-3.x-to-4).\n",
            "  w2v_model.init_sims(replace=True)\n",
            "WARNING:gensim.models.keyedvectors:destructive init_sims(replace=True) deprecated & no longer required for space-efficiency\n"
          ]
        }
      ]
    },
    {
      "cell_type": "markdown",
      "source": [
        "###Construcción del vocabulario"
      ],
      "metadata": {
        "id": "6FGb2h-F4_PY"
      }
    },
    {
      "cell_type": "code",
      "source": [
        "w2v_model.build_vocab(sentences, progress_per=10000)\n",
        "w2v_model.train(sentences, total_examples=w2v_model.corpus_count, epochs=30, report_delay=1)\n",
        "w2v_model.init_sims(replace=True)"
      ],
      "metadata": {
        "id": "9ujP8SJy5Dc1"
      },
      "execution_count": null,
      "outputs": []
    },
    {
      "cell_type": "code",
      "source": [
        "# Obtener las palabras del vocabulario\n",
        "words = list(w2v_model.wv.key_to_index.keys())\n",
        "print (len(words))"
      ],
      "metadata": {
        "colab": {
          "base_uri": "https://localhost:8080/"
        },
        "id": "XfKhnN503_Bz",
        "outputId": "13657c26-006c-4672-e45e-8b025e993a20"
      },
      "execution_count": null,
      "outputs": [
        {
          "output_type": "stream",
          "name": "stdout",
          "text": [
            "4318\n"
          ]
        }
      ]
    },
    {
      "cell_type": "code",
      "source": [
        "w2v_model.wv.most_similar(positive=[\"homer\"])"
      ],
      "metadata": {
        "colab": {
          "base_uri": "https://localhost:8080/"
        },
        "id": "v-OPzKlv3l1r",
        "outputId": "fdec113c-2cce-4d52-9f9b-e3088e2b4f51"
      },
      "execution_count": null,
      "outputs": [
        {
          "output_type": "execute_result",
          "data": {
            "text/plain": [
              "[('marge', 0.522838830947876),\n",
              " ('dad', 0.458978533744812),\n",
              " ('homie', 0.44186633825302124),\n",
              " ('mom', 0.3987717032432556),\n",
              " ('lisa', 0.39592674374580383),\n",
              " ('bart', 0.3880963623523712),\n",
              " ('guys', 0.367495596408844),\n",
              " ('simpson', 0.3574353754520416),\n",
              " ('moe', 0.35006093978881836),\n",
              " ('herb', 0.34959566593170166)]"
            ]
          },
          "metadata": {},
          "execution_count": 19
        }
      ]
    },
    {
      "cell_type": "code",
      "source": [
        "w2v_model.wv.most_similar(positive=[\"beer\"])"
      ],
      "metadata": {
        "colab": {
          "base_uri": "https://localhost:8080/"
        },
        "id": "JDk0NaGv811V",
        "outputId": "d53b7c92-5a07-41ec-976f-1aaaed70d2e9"
      },
      "execution_count": null,
      "outputs": [
        {
          "output_type": "execute_result",
          "data": {
            "text/plain": [
              "[('duff', 0.6374707221984863),\n",
              " ('baron', 0.6204781532287598),\n",
              " ('mug', 0.5785999298095703),\n",
              " ('chug', 0.5628378987312317),\n",
              " ('bottles', 0.5306209325790405),\n",
              " ('blimp', 0.5083188414573669),\n",
              " ('champagne', 0.5036320090293884),\n",
              " ('drank', 0.5024460554122925),\n",
              " ('krustyburger', 0.46337801218032837),\n",
              " ('drink', 0.4535473883152008)]"
            ]
          },
          "metadata": {},
          "execution_count": 24
        }
      ]
    },
    {
      "cell_type": "code",
      "source": [
        "w2v_model.wv.most_similar(positive=[\"homer\", \"beer\"])"
      ],
      "metadata": {
        "id": "cS4K8Jc1-jdx",
        "outputId": "003f949e-69e1-402e-9abf-f3150df11e3e",
        "colab": {
          "base_uri": "https://localhost:8080/"
        }
      },
      "execution_count": null,
      "outputs": [
        {
          "output_type": "execute_result",
          "data": {
            "text/plain": [
              "[('duff', 0.4785405397415161),\n",
              " ('baron', 0.4765430688858032),\n",
              " ('moe', 0.444746732711792),\n",
              " ('drinking', 0.4034419357776642),\n",
              " ('champagne', 0.3988872766494751),\n",
              " ('mug', 0.3927585482597351),\n",
              " ('blimp', 0.3927452266216278),\n",
              " ('marge', 0.38496214151382446),\n",
              " ('lemonade', 0.38152948021888733),\n",
              " ('chug', 0.37749189138412476)]"
            ]
          },
          "metadata": {},
          "execution_count": 34
        }
      ]
    },
    {
      "cell_type": "code",
      "source": [
        "import matplotlib.pyplot as plt\n",
        "from mpl_toolkits.mplot3d import Axes3D\n",
        "\n",
        "# Seleccionar palabra específica y sus vecinas\n",
        "target_word = 'homer'  # Reemplaza con la palabra de interés\n",
        "neighbors = w2v_model.wv.most_similar(target_word, topn=10)  # Obtener las 10 palabras vecinas más similares\n",
        "words = [target_word] + [neighbor[0] for neighbor in neighbors]\n",
        "word_vectors = np.array([w2v_model.wv[word] for word in words])\n",
        "\n",
        "# Reducir dimensiones a 3D\n",
        "pca = PCA(n_components=3)\n",
        "word_vectors_pca = pca.fit_transform(word_vectors)\n",
        "\n",
        "# Crear una figura 3D\n",
        "fig = plt.figure(figsize=(10, 8))\n",
        "ax = fig.add_subplot(111, projection='3d')\n",
        "\n",
        "# Dibujar las palabras en el espacio 3D\n",
        "ax.scatter(word_vectors_pca[:, 0], word_vectors_pca[:, 1], word_vectors_pca[:, 2])\n",
        "\n",
        "# Etiquetas para las palabras\n",
        "for i, word in enumerate(words):\n",
        "    ax.text(word_vectors_pca[i, 0], word_vectors_pca[i, 1], word_vectors_pca[i, 2], word)\n",
        "\n",
        "# Destacar la palabra objetivo en rojo\n",
        "ax.text(word_vectors_pca[0, 0], word_vectors_pca[0, 1], word_vectors_pca[0, 2], target_word, color='red', fontsize=10)\n",
        "\n",
        "# Mostrar la gráfica\n",
        "plt.show()"
      ],
      "metadata": {
        "colab": {
          "base_uri": "https://localhost:8080/",
          "height": 653
        },
        "id": "mGsz4cE49AvW",
        "outputId": "356de399-ae17-44d8-944e-a58a4652c261"
      },
      "execution_count": null,
      "outputs": [
        {
          "output_type": "display_data",
          "data": {
            "text/plain": [
              "<Figure size 1000x800 with 1 Axes>"
            ],
            "image/png": "[encoded data removed]"
          },
          "metadata": {}
        }
      ]
    },
    {
      "cell_type": "code",
      "source": [
        "analogous_words = w2v_model.wv.most_similar(positive=['bart', 'marge'], negative=['homer'], topn=1)\n",
        "print(\"La palabra que completa la analogía 'homero es a bart como marge es a ...' es:\", analogous_words[0][0])"
      ],
      "metadata": {
        "colab": {
          "base_uri": "https://localhost:8080/"
        },
        "id": "D5hkbmkf9vVZ",
        "outputId": "0c6aaa35-3ccf-4bfb-e29e-1bfc6d6d61f3"
      },
      "execution_count": null,
      "outputs": [
        {
          "output_type": "stream",
          "name": "stdout",
          "text": [
            "La palabra que completa la analogía 'homero es a bart como marge es a ...' es: lisa\n"
          ]
        }
      ]
    }
  ]
}